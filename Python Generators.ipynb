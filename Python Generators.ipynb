{
 "cells": [
  {
   "cell_type": "markdown",
   "metadata": {},
   "source": [
    "# Python Generators\n",
    "\n",
    "Handle large datasets.\n",
    "Hide a little bit of state without the overhead of a class.\n",
    "Streamy pipelines.\n",
    "And more..."
   ]
  },
  {
   "cell_type": "markdown",
   "metadata": {},
   "source": [
    "## Functions that behave like iterators \n",
    "\n",
    "Functions that keep on giving. Use them in `for` loops."
   ]
  },
  {
   "cell_type": "code",
   "execution_count": 1,
   "metadata": {},
   "outputs": [
    {
     "data": {
      "text/plain": [
       "[42]"
      ]
     },
     "execution_count": 1,
     "metadata": {},
     "output_type": "execute_result"
    }
   ],
   "source": [
    "def function():\n",
    "    \"\"\"A standard function.\"\"\"\n",
    "    return [42]\n",
    "\n",
    "function()  # normal return value: list with a number inside"
   ]
  },
  {
   "cell_type": "code",
   "execution_count": 2,
   "metadata": {},
   "outputs": [
    {
     "data": {
      "text/plain": [
       "<generator object generator at 0x7f10a84a6270>"
      ]
     },
     "execution_count": 2,
     "metadata": {},
     "output_type": "execute_result"
    }
   ],
   "source": [
    "def generator():\n",
    "    \"\"\"Including a `yield` statement makes a generator\"\"\"\n",
    "    yield 42\n",
    "    \n",
    "generator()  # returns generator object!"
   ]
  },
  {
   "cell_type": "code",
   "execution_count": 3,
   "metadata": {},
   "outputs": [
    {
     "name": "stdout",
     "output_type": "stream",
     "text": [
      "f 42\n"
     ]
    }
   ],
   "source": [
    "for i in function():  # iterate over returned list\n",
    "    print('f', i)"
   ]
  },
  {
   "cell_type": "code",
   "execution_count": 4,
   "metadata": {},
   "outputs": [
    {
     "name": "stdout",
     "output_type": "stream",
     "text": [
      "g 42\n"
     ]
    }
   ],
   "source": [
    "for i in generator():  # iterate over returned generator object \n",
    "    print('g', i)"
   ]
  },
  {
   "cell_type": "markdown",
   "metadata": {},
   "source": [
    "*No need to build and pass around a list!*"
   ]
  },
  {
   "cell_type": "code",
   "execution_count": 5,
   "metadata": {},
   "outputs": [],
   "source": [
    "def generator():\n",
    "    \"\"\"A loop inside makes more sense.\"\"\"\n",
    "    for i in range(10):\n",
    "        if i % 2:\n",
    "            yield i"
   ]
  },
  {
   "cell_type": "code",
   "execution_count": 6,
   "metadata": {},
   "outputs": [
    {
     "name": "stdout",
     "output_type": "stream",
     "text": [
      "g 1\n",
      "g 3\n",
      "g 5\n",
      "g 7\n",
      "g 9\n"
     ]
    }
   ],
   "source": [
    "for i in generator():\n",
    "    print('g', i)"
   ]
  },
  {
   "cell_type": "markdown",
   "metadata": {},
   "source": [
    "## Generator expressions\n",
    "\n",
    "Simple iteration without need to create intermediate lists."
   ]
  },
  {
   "cell_type": "code",
   "execution_count": 7,
   "metadata": {},
   "outputs": [
    {
     "data": {
      "text/plain": [
       "[1, 9, 25, 49, 81]"
      ]
     },
     "execution_count": 7,
     "metadata": {},
     "output_type": "execute_result"
    }
   ],
   "source": [
    "# List comprehension\n",
    "[x*x for x in range(10) if x % 2]"
   ]
  },
  {
   "cell_type": "code",
   "execution_count": 8,
   "metadata": {},
   "outputs": [
    {
     "data": {
      "text/plain": [
       "<generator object <genexpr> at 0x7f10a84a6900>"
      ]
     },
     "execution_count": 8,
     "metadata": {},
     "output_type": "execute_result"
    }
   ],
   "source": [
    "# Generator expression\n",
    "(x for x in range(10) if x % 2)"
   ]
  },
  {
   "cell_type": "markdown",
   "metadata": {},
   "source": [
    "Use it in place as an argument, wherever an iterable is expected:"
   ]
  },
  {
   "cell_type": "code",
   "execution_count": 9,
   "metadata": {},
   "outputs": [
    {
     "data": {
      "text/plain": [
       "{0.13664296261502762,\n",
       " 0.5447603832229232,\n",
       " 0.6394686999707228,\n",
       " 0.7160268497050302,\n",
       " 0.9750825215882083}"
      ]
     },
     "execution_count": 9,
     "metadata": {},
     "output_type": "execute_result"
    }
   ],
   "source": [
    "import random\n",
    "set(random.random() for _ in range(5))  # you can leave out parentheses if it's the only argument"
   ]
  },
  {
   "cell_type": "markdown",
   "metadata": {},
   "source": [
    "## Lazy evaluation\n",
    "\n",
    "Functions that keep on living. Code only runs when it has to."
   ]
  },
  {
   "cell_type": "code",
   "execution_count": 10,
   "metadata": {},
   "outputs": [],
   "source": [
    "def generator():\n",
    "    print(\"Hi!\")\n",
    "    yield 42\n",
    "    print(\"Done!\")"
   ]
  },
  {
   "cell_type": "code",
   "execution_count": 11,
   "metadata": {},
   "outputs": [
    {
     "data": {
      "text/plain": [
       "<generator object generator at 0x7f10a84b5190>"
      ]
     },
     "execution_count": 11,
     "metadata": {},
     "output_type": "execute_result"
    }
   ],
   "source": [
    "generator()  # Output?"
   ]
  },
  {
   "cell_type": "markdown",
   "metadata": {},
   "source": [
    "No code ran inside the generator!"
   ]
  },
  {
   "cell_type": "code",
   "execution_count": 12,
   "metadata": {},
   "outputs": [
    {
     "name": "stdout",
     "output_type": "stream",
     "text": [
      "Hi!\n",
      "Done!\n"
     ]
    },
    {
     "data": {
      "text/plain": [
       "[42]"
      ]
     },
     "execution_count": 12,
     "metadata": {},
     "output_type": "execute_result"
    }
   ],
   "source": [
    "list(generator())  # Exhaust generator to create a list. Output?"
   ]
  },
  {
   "cell_type": "markdown",
   "metadata": {},
   "source": [
    "Now all the code ran."
   ]
  },
  {
   "cell_type": "code",
   "execution_count": 13,
   "metadata": {},
   "outputs": [
    {
     "name": "stdout",
     "output_type": "stream",
     "text": [
      "Hi!\n"
     ]
    },
    {
     "data": {
      "text/plain": [
       "42"
      ]
     },
     "execution_count": 13,
     "metadata": {},
     "output_type": "execute_result"
    }
   ],
   "source": [
    "g = generator()\n",
    "next(g)  # Get one more value (the first in this case). "
   ]
  },
  {
   "cell_type": "markdown",
   "metadata": {},
   "source": [
    "It only ran until the `yield` statement."
   ]
  },
  {
   "cell_type": "markdown",
   "metadata": {},
   "source": [
    "**Execution is synchronous.**\n",
    "\n",
    "When you need the next value, execution jumps back into the function where it left off (the `yield` statement) and proceeds to the next `yield` or the end of the function. (Or an exception happens.)"
   ]
  },
  {
   "cell_type": "code",
   "execution_count": 14,
   "metadata": {},
   "outputs": [],
   "source": [
    "def fibo():\n",
    "    \"\"\"Generate endless fibonacci sequence.\"\"\"\n",
    "    a = 0  # let's keep some state\n",
    "    yield a   # can have more than one yield statement\n",
    "    b = 1\n",
    "    yield b\n",
    "    while True:  # endless loop!\n",
    "        c = a + b\n",
    "        yield c\n",
    "        a, b = b, c        "
   ]
  },
  {
   "cell_type": "code",
   "execution_count": 15,
   "metadata": {},
   "outputs": [
    {
     "data": {
      "text/plain": [
       "[0, 1, 1, 2, 3, 5, 8]"
      ]
     },
     "execution_count": 15,
     "metadata": {},
     "output_type": "execute_result"
    }
   ],
   "source": [
    "from itertools import takewhile  # itertools has handy tools for dealing with generators\n",
    "list(takewhile(lambda x: x<10, fibo()))"
   ]
  },
  {
   "cell_type": "markdown",
   "metadata": {},
   "source": [
    "**Execution is on-demand**\n",
    "\n",
    "If you never need another value, execution does not resume. You can write endless loops and only run them as often as needed."
   ]
  },
  {
   "cell_type": "markdown",
   "metadata": {},
   "source": [
    "**Data is produced on-demand**\n",
    "\n",
    "No need to collect things into data structures and keep them lying around. You can get and process one piece of data at a time."
   ]
  },
  {
   "cell_type": "markdown",
   "metadata": {},
   "source": [
    "## What for?\n",
    "\n",
    "- stream processing, consumer pulls\n",
    "  - reading HTTP body that can arrive in chunks\n",
    "  - database result sets\n",
    "  \n",
    "- don't need or want to keep all data in memory\n",
    "  - one-off iteration\n",
    "  - process gigantic CSV file\n",
    "  \n",
    "- endless results / unknown how many needed\n",
    "    - counter\n",
    "    \n",
    "- building block for context managers...\n",
    "\n",
    "- coroutines for async processing...\n"
   ]
  },
  {
   "cell_type": "markdown",
   "metadata": {},
   "source": [
    "## Gotchas"
   ]
  },
  {
   "cell_type": "markdown",
   "metadata": {},
   "source": [
    "### Usable only once"
   ]
  },
  {
   "cell_type": "code",
   "execution_count": 16,
   "metadata": {},
   "outputs": [
    {
     "name": "stdout",
     "output_type": "stream",
     "text": [
      "['H', 'W']\n"
     ]
    }
   ],
   "source": [
    "g = (c for c in 'Hello World!' if c.isupper())\n",
    "print(list(g))"
   ]
  },
  {
   "cell_type": "code",
   "execution_count": 17,
   "metadata": {},
   "outputs": [
    {
     "name": "stdout",
     "output_type": "stream",
     "text": [
      "[]\n"
     ]
    }
   ],
   "source": [
    "print(list(g))"
   ]
  },
  {
   "cell_type": "markdown",
   "metadata": {},
   "source": [
    "If something else exhausts your generator before you get to it, this data will not be there for you anymore. There will be no error, there will just be no data. Not a common problem, until you start looking inside generators for during debugging. :) "
   ]
  },
  {
   "cell_type": "markdown",
   "metadata": {},
   "source": [
    "### Cleanup non-deterministic"
   ]
  },
  {
   "cell_type": "code",
   "execution_count": 18,
   "metadata": {},
   "outputs": [],
   "source": [
    "def read_lines(filename):\n",
    "    try:\n",
    "        with open(filename) as f:\n",
    "            print('--- file opened')\n",
    "            for line in f:\n",
    "                yield line.rstrip()  # remove trailing whitespace\n",
    "    finally:\n",
    "        # we `finally` to see print for prematurely closed generator:\n",
    "        print('--- file closed')"
   ]
  },
  {
   "cell_type": "code",
   "execution_count": 19,
   "metadata": {},
   "outputs": [
    {
     "name": "stdout",
     "output_type": "stream",
     "text": [
      "--- file opened\n",
      "0 {\n",
      "1  \"cells\": [\n",
      "2   {\n",
      "3    \"cell_type\": \"markdown\",\n",
      "4    \"metadata\": {},\n",
      "5    \"source\": [\n"
     ]
    }
   ],
   "source": [
    "reader = read_lines('Python Generators.ipynb')\n",
    "for i, l in enumerate(reader):\n",
    "    if i > 5:\n",
    "        break\n",
    "    print(i, l)"
   ]
  },
  {
   "cell_type": "markdown",
   "metadata": {},
   "source": [
    "**File is still open!** We did not run the generator to the end, so it did not close the file."
   ]
  },
  {
   "cell_type": "code",
   "execution_count": 20,
   "metadata": {},
   "outputs": [
    {
     "name": "stdout",
     "output_type": "stream",
     "text": [
      "--- file closed\n"
     ]
    }
   ],
   "source": [
    "del reader  # Python closes generators on garbage collection (CPython does that when last reference dropped)"
   ]
  },
  {
   "cell_type": "markdown",
   "metadata": {},
   "source": [
    "Whatever clean up you're relying on, it now depends on the code and flow of execution when this will happen. (Also on your Python implementation. Anybody using PyPy?)"
   ]
  },
  {
   "cell_type": "code",
   "execution_count": 21,
   "metadata": {},
   "outputs": [
    {
     "name": "stdout",
     "output_type": "stream",
     "text": [
      "--- file opened\n",
      "{\n",
      "--- file closed\n"
     ]
    }
   ],
   "source": [
    "from contextlib import closing\n",
    "with closing(read_lines('Python Generators.ipynb')) as reader:\n",
    "    # You can manually close generators, or use a special context manager that\n",
    "    # makes sure a generator is closed on leaving context\n",
    "    print(next(reader))"
   ]
  },
  {
   "cell_type": "code",
   "execution_count": 22,
   "metadata": {},
   "outputs": [],
   "source": [
    "# Beware exceptions that get raised on cleanup"
   ]
  },
  {
   "cell_type": "markdown",
   "metadata": {},
   "source": [
    "More about cleanup inside generators and their closing behavior: https://amir.rachum.com/blog/2017/03/03/generator-cleanup/"
   ]
  },
  {
   "cell_type": "code",
   "execution_count": null,
   "metadata": {},
   "outputs": [],
   "source": []
  }
 ],
 "metadata": {
  "kernelspec": {
   "display_name": "Python 3",
   "language": "python",
   "name": "python3"
  },
  "language_info": {
   "codemirror_mode": {
    "name": "ipython",
    "version": 3
   },
   "file_extension": ".py",
   "mimetype": "text/x-python",
   "name": "python",
   "nbconvert_exporter": "python",
   "pygments_lexer": "ipython3",
   "version": "3.8.5"
  }
 },
 "nbformat": 4,
 "nbformat_minor": 4
}
